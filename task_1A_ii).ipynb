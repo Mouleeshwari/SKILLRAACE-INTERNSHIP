{
  "cells": [
    {
      "cell_type": "code",
      "execution_count": 1,
      "id": "ea46591b",
      "metadata": {
        "id": "ea46591b"
      },
      "outputs": [],
      "source": [
        "import numpy as np\n",
        "import pandas as pd\n",
        "from sklearn import preprocessing as pre\n",
        "import time\n",
        "from sklearn.model_selection import train_test_split\n",
        "import matplotlib.pyplot as plt\n",
        "from sklearn.utils import shuffle"
      ]
    },
    {
      "cell_type": "code",
      "execution_count": 2,
      "id": "85c70b7b",
      "metadata": {
        "colab": {
          "base_uri": "https://localhost:8080/"
        },
        "id": "85c70b7b",
        "outputId": "830e4ae2-e879-4377-e517-de7474dbfc61"
      },
      "outputs": [
        {
          "output_type": "stream",
          "name": "stdout",
          "text": [
            "...............Reading the Dataset  and Dataset Pre-Processing ................\n"
          ]
        }
      ],
      "source": [
        "print(\"...............Reading the Dataset  and Dataset Pre-Processing ................\")\n",
        "start_time = time.time()\n",
        "dataset = shuffle(pd.read_csv(\"/content/data_banknote_authentication.txt\"))"
      ]
    },
    {
      "cell_type": "code",
      "execution_count": 3,
      "id": "7d7f7598",
      "metadata": {
        "id": "7d7f7598"
      },
      "outputs": [],
      "source": [
        "dataset.columns = [\"Variance of Wavelet Transformed image\", \"Skewness of Wavelet Transformed image\",\n",
        "                \"Curtosis of Wavelet Transformed image\", \"Entropy of image\",\"Class\"]"
      ]
    },
    {
      "cell_type": "code",
      "execution_count": 4,
      "id": "f6c8772d",
      "metadata": {
        "lines_to_next_cell": 2,
        "id": "f6c8772d"
      },
      "outputs": [],
      "source": [
        "# Changing the values of the class to -1 and 1 for tanh activation function\n",
        "dataset.loc[dataset['Class'] == 1, 'Class'] = -1\n",
        "dataset.loc[dataset['Class'] == 0, 'Class'] = 1"
      ]
    },
    {
      "cell_type": "code",
      "execution_count": 5,
      "id": "4a4b58e8",
      "metadata": {
        "id": "4a4b58e8"
      },
      "outputs": [],
      "source": [
        "x = dataset[[\"Variance of Wavelet Transformed image\",\"Skewness of Wavelet Transformed image\",\"Curtosis of Wavelet Transformed image\",\"Entropy of image\"]]\n",
        "y = dataset[['Class']]"
      ]
    },
    {
      "cell_type": "code",
      "execution_count": 6,
      "id": "fdbfc581",
      "metadata": {
        "lines_to_next_cell": 2,
        "colab": {
          "base_uri": "https://localhost:8080/"
        },
        "id": "fdbfc581",
        "outputId": "ef802cc8-f34f-4829-dab2-224db27f5820"
      },
      "outputs": [
        {
          "output_type": "stream",
          "name": "stdout",
          "text": [
            "Shape of X_Train :  (1096, 4)\n",
            "Shape of Train class :  (1096, 1)\n",
            "Shape of X_test :  (275, 4)\n",
            "Shape of Test class :  (275, 1)\n"
          ]
        }
      ],
      "source": [
        "x_train, x_test, y_train, y_test = train_test_split(x, y, test_size= 0.2, random_state=4)\n",
        "print('Shape of X_Train : ', x_train.shape)\n",
        "print('Shape of Train class : ', y_train.shape)\n",
        "print('Shape of X_test : ', x_test.shape)\n",
        "print('Shape of Test class : ', y_test.shape)"
      ]
    },
    {
      "cell_type": "code",
      "execution_count": 7,
      "id": "269dd8d7",
      "metadata": {
        "id": "269dd8d7"
      },
      "outputs": [],
      "source": [
        "# Normalizing data using Standard Scaler Fit Transform\n",
        "x_train = pre.StandardScaler().fit_transform(x_train)\n",
        "x_test = pre.StandardScaler().fit_transform(x_test)"
      ]
    },
    {
      "cell_type": "code",
      "execution_count": 8,
      "id": "dea9deed",
      "metadata": {
        "id": "dea9deed"
      },
      "outputs": [],
      "source": [
        "# Converting pd dataframe to numpy array to match compatibility\n",
        "y_train = y_train.to_numpy()\n",
        "y_test = y_test.to_numpy()"
      ]
    },
    {
      "cell_type": "code",
      "execution_count": 9,
      "id": "0ca5a04e",
      "metadata": {
        "lines_to_next_cell": 1,
        "colab": {
          "base_uri": "https://localhost:8080/"
        },
        "id": "0ca5a04e",
        "outputId": "20f34fbc-79de-47d9-a901-1eefe989ddb8"
      },
      "outputs": [
        {
          "output_type": "stream",
          "name": "stdout",
          "text": [
            "Time Cost for Pre-processing and Reading the Dataset: 0.134990 seconds \n",
            " \n"
          ]
        }
      ],
      "source": [
        "end_time = time.time()\n",
        "total_time = end_time - start_time\n",
        "print(\"Time Cost for Pre-processing and Reading the Dataset: %f seconds \\n \" % total_time)"
      ]
    },
    {
      "cell_type": "code",
      "execution_count": 10,
      "id": "56b98195",
      "metadata": {
        "lines_to_next_cell": 1,
        "id": "56b98195"
      },
      "outputs": [],
      "source": [
        "# Hyperbolic Tangent Activation function\n",
        "def hyperbolic_tanh(x):\n",
        "  return (np.exp(x) - np.exp(-x))/(np.exp(x) + np.exp(-x))"
      ]
    },
    {
      "cell_type": "code",
      "execution_count": 11,
      "id": "6a1b7223",
      "metadata": {
        "id": "6a1b7223"
      },
      "outputs": [],
      "source": [
        "# Hyperbolic derivative\n",
        "def derivative_hyperbolic(x):\n",
        "  return 1 - hyperbolic_tanh(x) * hyperbolic_tanh(x)"
      ]
    },
    {
      "cell_type": "code",
      "execution_count": 12,
      "id": "bafa877d",
      "metadata": {
        "colab": {
          "base_uri": "https://localhost:8080/"
        },
        "id": "bafa877d",
        "outputId": "db7c8401-c4ef-4900-b17c-f85c64dc1e44"
      },
      "outputs": [
        {
          "output_type": "stream",
          "name": "stdout",
          "text": [
            "............... Initializing hyperparameters ................\n"
          ]
        }
      ],
      "source": [
        "print(\"............... Initializing hyperparameters ................\")\n",
        "start_time = time.time()\n",
        "# Setting Hyperparameters\n",
        "np.random.seed(10)\n",
        "inp = 4\n",
        "hd = 6\n",
        "out = 1"
      ]
    },
    {
      "cell_type": "code",
      "execution_count": 13,
      "id": "665ff840",
      "metadata": {
        "id": "665ff840"
      },
      "outputs": [],
      "source": [
        "actual_out_size = y_train.size\n",
        "epochs = 10000\n",
        "eta = 0.001\n",
        "alpha = 0.7"
      ]
    },
    {
      "cell_type": "code",
      "execution_count": 14,
      "id": "249cae0c",
      "metadata": {
        "lines_to_next_cell": 2,
        "colab": {
          "base_uri": "https://localhost:8080/"
        },
        "id": "249cae0c",
        "outputId": "4a0334e4-bee1-43c6-d5f7-4c0b396c10c7"
      },
      "outputs": [
        {
          "output_type": "stream",
          "name": "stdout",
          "text": [
            "............... Setting 4 weights for hidden layers ................\n"
          ]
        }
      ],
      "source": [
        "print(\"............... Setting 4 weights for hidden layers ................\")\n",
        "# Setting random weights for 4 hidden layers\n",
        "w1_l1 = np.random.randn(inp, hd)\n",
        "w2_l2 = np.random.randn(hd, hd)\n",
        "w3_l3 = np.random.randn(hd, hd)\n",
        "w4_l4 = np.random.randn(hd, hd)\n",
        "out_w = np.random.randn(hd, out)"
      ]
    },
    {
      "cell_type": "code",
      "execution_count": 15,
      "id": "b2ddd59d",
      "metadata": {
        "id": "b2ddd59d"
      },
      "outputs": [],
      "source": [
        "acc_list = []"
      ]
    },
    {
      "cell_type": "code",
      "execution_count": 16,
      "id": "de1c519b",
      "metadata": {
        "colab": {
          "base_uri": "https://localhost:8080/"
        },
        "id": "de1c519b",
        "outputId": "d013286a-6858-4331-a84b-2c4477f630d8"
      },
      "outputs": [
        {
          "output_type": "stream",
          "name": "stdout",
          "text": [
            "Time Cost for Setting HyperParameters: 0.039104 seconds \n",
            " \n"
          ]
        }
      ],
      "source": [
        "end_time = time.time()\n",
        "total_time = end_time - start_time\n",
        "print(\"Time Cost for Setting HyperParameters: %f seconds \\n \" %total_time)"
      ]
    },
    {
      "cell_type": "code",
      "execution_count": 17,
      "id": "9596eb7a",
      "metadata": {
        "colab": {
          "base_uri": "https://localhost:8080/"
        },
        "id": "9596eb7a",
        "outputId": "d3c82ac1-b01b-4f9e-d7a2-d8238604a5c4"
      },
      "outputs": [
        {
          "output_type": "stream",
          "name": "stdout",
          "text": [
            "............... Training Backpropagation Algorithm ................\n"
          ]
        }
      ],
      "source": [
        "print(\"............... Training Backpropagation Algorithm ................\")\n",
        "start_time = time.time()\n",
        "for i in range(epochs):\n",
        "    # Feedforward for 4 hidden layers by calling activation function\n",
        "    l1 = np.dot(x_train, w1_l1)\n",
        "    l1_out = hyperbolic_tanh(l1)\n",
        "\n",
        "    l2 = np.dot(l1_out, w2_l2)\n",
        "    l2_out = hyperbolic_tanh(l2)\n",
        "\n",
        "    l3 = np.dot(l2_out, w3_l3)\n",
        "    l3_out = hyperbolic_tanh(l3)\n",
        "\n",
        "    l4 = np.dot(l3_out, w4_l4)\n",
        "    l4_out = hyperbolic_tanh(l4)\n",
        "\n",
        "    output = np.dot(l4_out, out_w)\n",
        "    final_out = hyperbolic_tanh(output)\n",
        "\n",
        "    # Calculate accuracy\n",
        "    final_out = final_out.round()\n",
        "    calc_acc = (final_out == y_train).sum()\n",
        "    acc = calc_acc / actual_out_size\n",
        "    acc_list.append(acc)\n",
        "\n",
        "    # Backpropagation for 4 hidden layers\n",
        "    final_err = final_out - y_train\n",
        "    final_sigmoid_derivative = final_err * derivative_hyperbolic(final_out)\n",
        "\n",
        "    l4_err = np.dot(final_sigmoid_derivative, out_w.T)\n",
        "    l4_derivative = l4_err * derivative_hyperbolic(l4_out)\n",
        "\n",
        "    l3_err = np.dot(l4_derivative, w4_l4.T)\n",
        "    l3_derivative = l3_err * derivative_hyperbolic(l3_out)\n",
        "\n",
        "    l2_err = np.dot(l3_derivative, w3_l3.T)\n",
        "    l2_derivative = l2_err * derivative_hyperbolic(l2_out)\n",
        "\n",
        "    l1_err = np.dot(l2_derivative, w2_l2.T)\n",
        "    l1_derivative = l1_err * derivative_hyperbolic(l1_out)\n",
        "\n",
        "\n",
        "    # Divide weights as per size of output\n",
        "    output_weights = np.dot(l4_out.T, final_sigmoid_derivative) / actual_out_size\n",
        "    weights4 = np.dot(l3_out.T, l4_derivative) / actual_out_size\n",
        "    weights3 = np.dot(l2_out.T, l3_derivative) / actual_out_size\n",
        "    weights2 = np.dot(l1_out.T, l2_derivative) / actual_out_size\n",
        "    weights1 = np.dot(x_train.T, l1_derivative) / actual_out_size\n",
        "\n",
        "    out_w -= eta * alpha * output_weights\n",
        "    w4_l4 -= eta * alpha * weights4\n",
        "    w3_l3 -= eta * alpha * weights3\n",
        "    w2_l2 -= eta * alpha * weights2\n",
        "    w1_l1 -= eta * alpha * weights1"
      ]
    },
    {
      "cell_type": "code",
      "execution_count": 18,
      "id": "1545b4e6",
      "metadata": {
        "colab": {
          "base_uri": "https://localhost:8080/"
        },
        "id": "1545b4e6",
        "outputId": "00766276-c403-4740-ff2c-ea2bfa3ee46d"
      },
      "outputs": [
        {
          "output_type": "stream",
          "name": "stdout",
          "text": [
            "Training Accuracy: 94.0 %\n",
            "Time Cost for Training algorithm: 47.894320 seconds \n",
            " \n"
          ]
        }
      ],
      "source": [
        "print(\"Training Accuracy: \"+str(round(acc_list[-1],2) * 100) + \" %\")\n",
        "end_time = time.time()\n",
        "total_time = end_time - start_time\n",
        "print(\"Time Cost for Training algorithm: %f seconds \\n \" %total_time)"
      ]
    },
    {
      "cell_type": "code",
      "execution_count": 19,
      "id": "336b112a",
      "metadata": {
        "colab": {
          "base_uri": "https://localhost:8080/"
        },
        "id": "336b112a",
        "outputId": "bc5aabe2-9a7c-4aa4-c681-22ed047feccc"
      },
      "outputs": [
        {
          "output_type": "stream",
          "name": "stdout",
          "text": [
            "............... Plotting Accuracy Curve ................\n"
          ]
        }
      ],
      "source": [
        "print(\"............... Plotting Accuracy Curve ................\")"
      ]
    },
    {
      "cell_type": "code",
      "execution_count": 20,
      "id": "78287126",
      "metadata": {
        "colab": {
          "base_uri": "https://localhost:8080/",
          "height": 472
        },
        "id": "78287126",
        "outputId": "f8d93e5c-5973-42ac-c04a-0edbff07c268"
      },
      "outputs": [
        {
          "output_type": "display_data",
          "data": {
            "text/plain": [
              "<Figure size 640x480 with 1 Axes>"
            ],
            "image/png": "[encoded data removed]"
          },
          "metadata": {}
        }
      ],
      "source": [
        "plt.title(\"Accuracy Curve\")\n",
        "plt.ylabel(\"Accuracy\")\n",
        "plt.xlabel(\"Epochs\")\n",
        "plt.plot(acc_list)\n",
        "plt.show()"
      ]
    },
    {
      "cell_type": "code",
      "execution_count": 21,
      "id": "81ebc7eb",
      "metadata": {
        "colab": {
          "base_uri": "https://localhost:8080/"
        },
        "id": "81ebc7eb",
        "outputId": "a459802a-c4d4-4993-dcbb-7d0159bdf64f"
      },
      "outputs": [
        {
          "output_type": "stream",
          "name": "stdout",
          "text": [
            "\n",
            "............... Testing Backpropagation Algorithm ................\n"
          ]
        }
      ],
      "source": [
        "print()\n",
        "print(\"............... Testing Backpropagation Algorithm ................\")\n",
        "start_time = time.time()"
      ]
    },
    {
      "cell_type": "code",
      "execution_count": 22,
      "id": "57437440",
      "metadata": {
        "id": "57437440"
      },
      "outputs": [],
      "source": [
        "# Feedforward for 4 hidden layers by calling activation function\n",
        "l1_test = np.dot(x_test, w1_l1)\n",
        "l1_out_test = hyperbolic_tanh(l1_test)"
      ]
    },
    {
      "cell_type": "code",
      "execution_count": 23,
      "id": "506aa719",
      "metadata": {
        "id": "506aa719"
      },
      "outputs": [],
      "source": [
        "l2_test = np.dot(l1_out_test, w2_l2)\n",
        "l2_out_test = hyperbolic_tanh(l2_test)"
      ]
    },
    {
      "cell_type": "code",
      "execution_count": 24,
      "id": "abae7e49",
      "metadata": {
        "id": "abae7e49"
      },
      "outputs": [],
      "source": [
        "l3_test = np.dot(l2_out_test, w3_l3)\n",
        "l3_out = hyperbolic_tanh(l3_test)"
      ]
    },
    {
      "cell_type": "code",
      "execution_count": 25,
      "id": "90141106",
      "metadata": {
        "id": "90141106"
      },
      "outputs": [],
      "source": [
        "l4_test = np.dot(l3_out, w4_l4)\n",
        "l4_out_test = hyperbolic_tanh(l4_test)"
      ]
    },
    {
      "cell_type": "code",
      "execution_count": 26,
      "id": "8426fc81",
      "metadata": {
        "id": "8426fc81"
      },
      "outputs": [],
      "source": [
        "output_test = np.dot(l4_out_test, out_w)\n",
        "final_out_test = hyperbolic_tanh(output_test)"
      ]
    },
    {
      "cell_type": "code",
      "execution_count": 27,
      "id": "4a375aab",
      "metadata": {
        "id": "4a375aab"
      },
      "outputs": [],
      "source": [
        "# Calculate accuracy\n",
        "actual_out_size = y_test.size\n",
        "final_out_test_acc = final_out_test.round()\n",
        "calc_acc = (final_out_test_acc == y_test).sum()\n",
        "acc_test = (calc_acc/ actual_out_size) * 100"
      ]
    },
    {
      "cell_type": "code",
      "execution_count": 27,
      "id": "9059c88e",
      "metadata": {
        "id": "9059c88e"
      },
      "outputs": [],
      "source": []
    },
    {
      "cell_type": "code",
      "execution_count": 28,
      "id": "7126251b",
      "metadata": {
        "colab": {
          "base_uri": "https://localhost:8080/"
        },
        "id": "7126251b",
        "outputId": "04304e9f-9edb-4bb0-d978-64e9793d82fb"
      },
      "outputs": [
        {
          "output_type": "stream",
          "name": "stdout",
          "text": [
            "Testing Accuracy: 94.18 %\n",
            "Time Cost for Testing algorithm: 0.087031 seconds \n",
            " \n"
          ]
        }
      ],
      "source": [
        "print(\"Testing Accuracy: \"+str(round(acc_test,2)) + \" %\")\n",
        "end_time = time.time()\n",
        "total_time = end_time - start_time\n",
        "print(\"Time Cost for Testing algorithm: %f seconds \\n \" %total_time)"
      ]
    },
    {
      "cell_type": "code",
      "execution_count": 29,
      "id": "4a0c34c2",
      "metadata": {
        "colab": {
          "base_uri": "https://localhost:8080/"
        },
        "id": "4a0c34c2",
        "outputId": "64ea239e-85aa-4602-c588-32dd18fa91f0"
      },
      "outputs": [
        {
          "output_type": "stream",
          "name": "stdout",
          "text": [
            "[[ 0.92665492]\n",
            " [ 0.92422074]\n",
            " [ 0.88921246]\n",
            " [-0.92586363]\n",
            " [-0.9211158 ]\n",
            " [ 0.60660787]\n",
            " [-0.52622284]\n",
            " [-0.93981348]\n",
            " [ 0.11824445]\n",
            " [-0.9265875 ]\n",
            " [ 0.903083  ]\n",
            " [-0.92254446]\n",
            " [ 0.94280737]\n",
            " [-0.92364946]\n",
            " [ 0.41006513]\n",
            " [ 0.92770346]\n",
            " [ 0.68675387]\n",
            " [-0.91764896]\n",
            " [-0.65931189]\n",
            " [ 0.58222278]\n",
            " [ 0.9252251 ]\n",
            " [-0.66105356]\n",
            " [ 0.92893954]\n",
            " [-0.88980118]\n",
            " [-0.4900394 ]\n",
            " [ 0.61395999]\n",
            " [ 0.48325581]\n",
            " [-0.91934342]\n",
            " [ 0.90905471]\n",
            " [-0.89757498]\n",
            " [-0.94440517]\n",
            " [-0.92518819]\n",
            " [ 0.9222311 ]\n",
            " [-0.70554877]\n",
            " [ 0.89270971]\n",
            " [-0.7175564 ]\n",
            " [ 0.5760459 ]\n",
            " [ 0.92905442]\n",
            " [-0.92255545]\n",
            " [ 0.9213555 ]\n",
            " [-0.65220387]\n",
            " [ 0.92822917]\n",
            " [ 0.60872709]\n",
            " [-0.65511832]\n",
            " [-0.9212    ]\n",
            " [-0.92620968]\n",
            " [-0.92673941]\n",
            " [-0.88433494]\n",
            " [ 0.5944976 ]\n",
            " [ 0.92031923]\n",
            " [ 0.92492573]\n",
            " [-0.8065215 ]\n",
            " [-0.72594999]\n",
            " [ 0.91978556]\n",
            " [-0.65873193]\n",
            " [-0.92282085]\n",
            " [ 0.93252371]\n",
            " [ 0.92203358]\n",
            " [ 0.91653182]\n",
            " [-0.92207065]\n",
            " [ 0.92723374]\n",
            " [-0.89378306]\n",
            " [-0.71879208]\n",
            " [-0.92698367]\n",
            " [ 0.92477767]\n",
            " [-0.91482173]\n",
            " [-0.91282704]\n",
            " [ 0.92859588]\n",
            " [-0.92632604]\n",
            " [ 0.86104007]\n",
            " [-0.63149409]\n",
            " [-0.89370818]\n",
            " [ 0.68407793]\n",
            " [ 0.92317952]\n",
            " [-0.61740688]\n",
            " [-0.92549154]\n",
            " [-0.79343562]\n",
            " [-0.91773651]\n",
            " [ 0.92422781]\n",
            " [-0.65335098]\n",
            " [-0.92767134]\n",
            " [-0.9279918 ]\n",
            " [ 0.92664523]\n",
            " [-0.92545994]\n",
            " [-0.92562829]\n",
            " [-0.60400704]\n",
            " [-0.9422648 ]\n",
            " [ 0.9206864 ]\n",
            " [ 0.91597111]\n",
            " [ 0.82111419]\n",
            " [ 0.91993239]\n",
            " [-0.70437204]\n",
            " [ 0.5485044 ]\n",
            " [ 0.91235919]\n",
            " [-0.6527233 ]\n",
            " [-0.64918882]\n",
            " [-0.76629671]\n",
            " [ 0.92875551]\n",
            " [ 0.9289644 ]\n",
            " [-0.89378306]\n",
            " [-0.93818488]\n",
            " [ 0.94187794]\n",
            " [ 0.9236038 ]\n",
            " [ 0.35165098]\n",
            " [ 0.92563262]\n",
            " [-0.89987172]\n",
            " [ 0.92721079]\n",
            " [-0.92290278]\n",
            " [ 0.92831954]\n",
            " [ 0.92622785]\n",
            " [ 0.924008  ]\n",
            " [ 0.92739656]\n",
            " [ 0.92888109]\n",
            " [-0.92639425]\n",
            " [ 0.85374364]\n",
            " [-0.94621252]\n",
            " [ 0.91835804]\n",
            " [-0.81361929]\n",
            " [-0.92686172]\n",
            " [-0.92690203]\n",
            " [-0.91546754]\n",
            " [ 0.91229797]\n",
            " [ 0.92490333]\n",
            " [ 0.91989055]\n",
            " [ 0.72996501]\n",
            " [-0.93228244]\n",
            " [-0.60758462]\n",
            " [-0.86194285]\n",
            " [ 0.9257914 ]\n",
            " [ 0.90825814]\n",
            " [-0.91813237]\n",
            " [ 0.92848241]\n",
            " [ 0.9267192 ]\n",
            " [-0.92183828]\n",
            " [-0.92518672]\n",
            " [-0.59881719]\n",
            " [ 0.92771227]\n",
            " [ 0.93035256]\n",
            " [ 0.84839812]\n",
            " [ 0.92488645]\n",
            " [-0.92095349]\n",
            " [ 0.53375924]\n",
            " [ 0.92732445]\n",
            " [-0.64144263]\n",
            " [-0.73289771]\n",
            " [ 0.91695169]\n",
            " [ 0.93114096]\n",
            " [-0.92246429]\n",
            " [-0.92293999]\n",
            " [ 0.84083065]\n",
            " [ 0.93942909]\n",
            " [ 0.92744164]\n",
            " [ 0.9200849 ]\n",
            " [-0.70801203]\n",
            " [-0.91520507]\n",
            " [-0.92349964]\n",
            " [-0.94300135]\n",
            " [ 0.25471218]\n",
            " [ 0.91563175]\n",
            " [-0.74366318]\n",
            " [-0.5947497 ]\n",
            " [ 0.63976344]\n",
            " [-0.92402606]\n",
            " [ 0.92102812]\n",
            " [ 0.91662003]\n",
            " [ 0.86557135]\n",
            " [ 0.72566433]\n",
            " [-0.92366712]\n",
            " [-0.65916229]\n",
            " [-0.71158434]\n",
            " [-0.92465964]\n",
            " [ 0.92524049]\n",
            " [-0.65705827]\n",
            " [ 0.93861344]\n",
            " [ 0.92611796]\n",
            " [-0.91961659]\n",
            " [ 0.92358646]\n",
            " [-0.92848412]\n",
            " [-0.92362453]\n",
            " [-0.93407689]\n",
            " [ 0.9179746 ]\n",
            " [ 0.92862871]\n",
            " [ 0.9154353 ]\n",
            " [ 0.49522619]\n",
            " [-0.61101979]\n",
            " [ 0.92898225]\n",
            " [ 0.91861555]\n",
            " [-0.91117106]\n",
            " [-0.9256961 ]\n",
            " [-0.62410453]\n",
            " [-0.71306311]\n",
            " [ 0.87292213]\n",
            " [ 0.93360984]\n",
            " [ 0.92908269]\n",
            " [ 0.93001234]\n",
            " [ 0.93708561]\n",
            " [ 0.92766824]\n",
            " [ 0.91587665]\n",
            " [ 0.91519919]\n",
            " [-0.77954955]\n",
            " [-0.91997624]\n",
            " [-0.76207576]\n",
            " [-0.53934772]\n",
            " [ 0.92912207]\n",
            " [ 0.91864588]\n",
            " [-0.92581746]\n",
            " [ 0.62369517]\n",
            " [ 0.9167814 ]\n",
            " [ 0.75286978]\n",
            " [ 0.91902732]\n",
            " [-0.9242781 ]\n",
            " [-0.92475794]\n",
            " [ 0.75003612]\n",
            " [ 0.59992462]\n",
            " [ 0.63407526]\n",
            " [-0.65977735]\n",
            " [ 0.84413121]\n",
            " [ 0.41038634]\n",
            " [ 0.92483156]\n",
            " [-0.92706173]\n",
            " [-0.65307624]\n",
            " [-0.92083238]\n",
            " [ 0.92154361]\n",
            " [-0.92277879]\n",
            " [-0.66226731]\n",
            " [ 0.92552028]\n",
            " [ 0.9424    ]\n",
            " [-0.84546468]\n",
            " [-0.9265885 ]\n",
            " [-0.81360399]\n",
            " [ 0.92500966]\n",
            " [ 0.26632642]\n",
            " [-0.92254573]\n",
            " [-0.77183921]\n",
            " [ 0.92919742]\n",
            " [ 0.90360983]\n",
            " [ 0.4204886 ]\n",
            " [ 0.58538516]\n",
            " [-0.62561478]\n",
            " [ 0.90297364]\n",
            " [ 0.94304267]\n",
            " [-0.92042657]\n",
            " [-0.92451912]\n",
            " [-0.90950098]\n",
            " [ 0.65214552]\n",
            " [-0.49141768]\n",
            " [ 0.83988667]\n",
            " [-0.94371944]\n",
            " [-0.91734734]\n",
            " [-0.92468669]\n",
            " [-0.92373471]\n",
            " [-0.92149056]\n",
            " [-0.91065325]\n",
            " [-0.91015085]\n",
            " [-0.92808948]\n",
            " [ 0.92058606]\n",
            " [ 0.91614305]\n",
            " [-0.59301027]\n",
            " [-0.53527155]\n",
            " [-0.53920785]\n",
            " [-0.74182772]\n",
            " [ 0.89965858]\n",
            " [-0.58904052]\n",
            " [-0.6607732 ]\n",
            " [ 0.72890486]\n",
            " [ 0.90720583]\n",
            " [ 0.9257181 ]\n",
            " [ 0.9172149 ]\n",
            " [-0.92151135]\n",
            " [ 0.92020516]\n",
            " [-0.91877719]\n",
            " [ 0.91893307]\n",
            " [ 0.92644856]\n",
            " [ 0.56985836]\n",
            " [ 0.92210556]]\n"
          ]
        }
      ],
      "source": [
        "print(final_out_test)"
      ]
    }
  ],
  "metadata": {
    "jupytext": {
      "cell_metadata_filter": "-all",
      "main_language": "python",
      "notebook_metadata_filter": "-all"
    },
    "colab": {
      "provenance": []
    },
    "language_info": {
      "name": "python"
    },
    "kernelspec": {
      "name": "python3",
      "display_name": "Python 3"
    }
  },
  "nbformat": 4,
  "nbformat_minor": 5
}